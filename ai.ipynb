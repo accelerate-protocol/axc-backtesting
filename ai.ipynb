{
 "cells": [
  {
   "cell_type": "code",
   "execution_count": null,
   "id": "a90f24cf-dfdb-496c-8ba5-7847e75f4ad5",
   "metadata": {},
   "outputs": [],
   "source": [
    "%load_ext jupyter_ai_magics"
   ]
  },
  {
   "cell_type": "code",
   "execution_count": null,
   "id": "b442e1a5-009d-4bc2-800a-8c2c70c3c65b",
   "metadata": {},
   "outputs": [],
   "source": [
    "%config AiMagics.default_language_model = \"ollama:deepseek-r1:8b\""
   ]
  },
  {
   "cell_type": "code",
   "execution_count": null,
   "id": "af94b7b7-ae6d-496e-8413-45b7d84973ec",
   "metadata": {},
   "outputs": [],
   "source": [
    "%%ai\n",
    "what are some python libraries for displaying monte carlo paths\n"
   ]
  },
  {
   "cell_type": "code",
   "execution_count": null,
   "id": "b57c9f06-7cda-4cef-a79a-f8ac002431fc",
   "metadata": {},
   "outputs": [],
   "source": [
    "%%ai\n",
    "looking for something similar to pymc.gp.util.plot_gp_dist\n"
   ]
  },
  {
   "cell_type": "code",
   "execution_count": null,
   "id": "35aa30f9-e8ef-4b23-ba65-9a3a990e9176",
   "metadata": {},
   "outputs": [],
   "source": []
  }
 ],
 "metadata": {
  "language_info": {
   "name": "python",
   "pygments_lexer": "ipython3"
  }
 },
 "nbformat": 4,
 "nbformat_minor": 5
}
