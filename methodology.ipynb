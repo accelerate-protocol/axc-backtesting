{
 "cells": [
  {
   "cell_type": "markdown",
   "id": "c99645bb-6da1-41ed-bdc5-efbc13a0d714",
   "metadata": {},
   "source": [
    "# Introduction\n",
    "\n",
    "The methodology used for the AXC Liquidity framework is provide maximum liquidity and minimize price slippage in the most capital efficient manner possible.  The methodology involves creating an environmental model which simulates the behavior of the market and then run simulations of the arbitrage bot and the liquidity framework in order to forecast liquidity."
   ]
  },
  {
   "cell_type": "markdown",
   "id": "40209ac0-797f-4226-9adf-58a8837fa643",
   "metadata": {},
   "source": [
    "# Environment model\n",
    "\n",
    "The enviroment model is a model within the AXC liquidity framework that provides a realistic set of simulated trades in order to calculate the response of the reserve pool and the arbitrage bot.  The environmental model consists of the following components\n",
    "\n",
    "* Trade order model - which provides simulated orders to buy and sell AXC models\n",
    "* Liquidity provision model - this simulates the behaviour of external users in providing liquidity\n",
    "* Time model - this provides a model which simulates the timing of the events\n",
    "* Trade Coorelation model - this provides a model which correlates the orders, liquidity provisioning, and timing of trades\n",
    "* NAV Coorelation model - this provides a model in which the trades, liquidity, and time coorelates with the NAV model"
   ]
  },
  {
   "cell_type": "markdown",
   "id": "009033f6-0461-48c4-8482-1c4ad8b1e214",
   "metadata": {},
   "source": [
    "# Bootstrapping\n",
    "\n",
    "Before trading begins, some basic assumptions are made in order to bootstrap the environment model.\n",
    "\n",
    "* The trade orders are modelled using a gamma distribution function with a specified swap size of 1000 USD and a binary function that gives the probability that the trade is up or down which is set at 0.5\n",
    "* The time model assumes that events are spaced with a delta distrbution\n",
    "* The liquidity is assumed to vary only with NAV\n",
    "* No coorelations are assumed"
   ]
  },
  {
   "cell_type": "markdown",
   "id": "55cd374e-4ca5-4af0-b7b0-34841b55811b",
   "metadata": {},
   "source": [
    "# Liquidity monitoring and calibration\n",
    "\n",
    "Liquidity monitoring involves \n",
    "\n",
    "* trades made\n",
    "* changes in liquidity\n",
    "\n",
    "These results are averaged over 1 day, 7 days, and 30 days and the parameters of the environment model are adjusted to create distributions similar to the actual data"
   ]
  },
  {
   "cell_type": "markdown",
   "id": "19fce216-5d54-428d-815d-ecab66abf137",
   "metadata": {},
   "source": [
    "# Output metrics"
   ]
  },
  {
   "cell_type": "markdown",
   "id": "775fa566-bb91-497c-ac2b-cce70642204d",
   "metadata": {},
   "source": [
    "***Projected capital requirements*** - The system should output the expect capital requirements for the next day, 7 days, and 30 days"
   ]
  },
  {
   "cell_type": "code",
   "execution_count": null,
   "id": "9acd70ae-eab3-4405-bc9d-7e1748a7a4bb",
   "metadata": {},
   "outputs": [],
   "source": [
    "***"
   ]
  }
 ],
 "metadata": {
  "language_info": {
   "name": "python",
   "pygments_lexer": "ipython3"
  }
 },
 "nbformat": 4,
 "nbformat_minor": 5
}
