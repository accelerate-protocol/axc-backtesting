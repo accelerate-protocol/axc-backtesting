{
 "cells": [
  {
   "cell_type": "code",
   "execution_count": null,
   "id": "d287cf8a-c820-4b81-977a-26022c4a6f80",
   "metadata": {},
   "outputs": [],
   "source": [
    "%matplotlib ipympl\n",
    "import ipywidgets as widgets\n",
    "from uniswappy import *\n",
    "from axc_lp import *\n",
    "tenv = token_scenario_baseline\n",
    "\n",
    "w  = {\n",
    "\"token_prob\": widgets.FloatSlider(\n",
    "    value=0.5,\n",
    "    min=0,\n",
    "    max=1.0,\n",
    "    step=0.05,\n",
    "    description='Probability up:',\n",
    "    disabled=False,\n",
    "    continuous_update=False,\n",
    "    orientation='horizontal',\n",
    "    readout=True,\n",
    "    readout_format='.1f',\n",
    "),\n",
    "\"swap_size\": widgets.FloatLogSlider(\n",
    "    value= 1000,\n",
    "    base=10,\n",
    "    min=2,\n",
    "    max=5,\n",
    "    description='Swap size:',\n",
    "    disabled=False,\n",
    "    continuous_update=False,\n",
    "    orientation='horizontal',\n",
    "    readout=True,\n",
    "    readout_format='.1f',\n",
    "),\n",
    "    \"button\": widgets.Button(\n",
    "    description='Run Simulation',\n",
    "    disabled=False,\n",
    "    button_style='', # 'success', 'info', 'warning', 'danger' or ''\n",
    "    tooltip='Click me',\n",
    "    icon='check' # (FontAwesome names without the `fa-` prefix)\n",
    "), \"output\": widgets.Output()\n",
    "}\n",
    "\n",
    "for k, v in w.items():\n",
    "    display(v)\n",
    "\n",
    "w['button'].on_click(lambda x: runme(w))\n",
    "\n"
   ]
  },
  {
   "cell_type": "code",
   "execution_count": null,
   "id": "58db77e6-a4b0-4112-9ccd-b14f408e9515",
   "metadata": {},
   "outputs": [],
   "source": []
  },
  {
   "cell_type": "code",
   "execution_count": null,
   "id": "0356108f-64a6-42b3-a74d-b124e4965090",
   "metadata": {},
   "outputs": [],
   "source": []
  }
 ],
 "metadata": {
  "language_info": {
   "name": "python",
   "pygments_lexer": "ipython3"
  }
 },
 "nbformat": 4,
 "nbformat_minor": 5
}
