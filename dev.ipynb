{
 "cells": [
  {
   "cell_type": "code",
   "execution_count": null,
   "id": "4e944c52-0c3c-4b12-b628-f727b6be46b0",
   "metadata": {},
   "outputs": [],
   "source": [
    "%matplotlib ipympl\n",
    "import ipywidgets as widgets\n",
    "from uniswappy import *\n",
    "from axc_lp import *\n",
    "tenv = token_scenario_baseline"
   ]
  },
  {
   "cell_type": "code",
   "execution_count": null,
   "id": "d287cf8a-c820-4b81-977a-26022c4a6f80",
   "metadata": {},
   "outputs": [],
   "source": [
    "%matplotlib ipympl\n",
    "w  = {\n",
    "\"token_prob\": widgets.FloatSlider(\n",
    "    value=0.5,\n",
    "    min=0,\n",
    "    max=1.0,\n",
    "    step=0.05,\n",
    "    description='Probability up:',\n",
    "    disabled=False,\n",
    "    continuous_update=False,\n",
    "    orientation='horizontal',\n",
    "    readout=True,\n",
    "    readout_format='.1f',\n",
    "),\n",
    "    \"swap_size\": widgets.IntSlider(\n",
    "    value= 1000,\n",
    "    min=0,\n",
    "    max=100000,\n",
    "    description='Swap size:',\n",
    "    disabled=False,\n",
    "    continuous_update=False,\n",
    "    orientation='horizontal',\n",
    "    readout=True,\n",
    "    readout_format='.1f',\n",
    "),\n",
    "    \"button\": widgets.Button(\n",
    "    description='Run Simulation',\n",
    "    disabled=False,\n",
    "    button_style='', # 'success', 'info', 'warning', 'danger' or ''\n",
    "    tooltip='Click me',\n",
    "    icon='check' # (FontAwesome names without the `fa-` prefix)\n",
    "), \"output\": widgets.Output()\n",
    "}\n",
    "\n",
    "for k, v in w.items():\n",
    "    display(v)\n",
    "\n",
    "w['button'].on_click(lambda x: runme(w))\n",
    "\n"
   ]
  },
  {
   "cell_type": "code",
   "execution_count": null,
   "id": "1e6f0808-52c2-46b9-a78d-1404d6a35034",
   "metadata": {},
   "outputs": [],
   "source": []
  },
  {
   "cell_type": "code",
   "execution_count": null,
   "id": "3b9809ea-3e2e-4c91-bc8b-7ea0f5dccd9c",
   "metadata": {},
   "outputs": [],
   "source": [
    "%matplotlib ipympl\n",
    "\n",
    "results = do_calc2(tenv, [[\n",
    "        [tenv.user_lp, \"min_tick\", \"max_tick\"]\n",
    "    ]] +  [[\n",
    "        [tenv.user_lp, \"min_tick\", \"max_tick\"],\n",
    "        [10000, reserve, tenv.nav]] for reserve in [0.1, 0.2, 0.3, 0.5, 0.8, 0.9, 0.995]\n",
    "    ], ['baseline'] + [ x for x in [0.1, 0.2, 0.3, 0.5, 0.8, 0.9, 0.995]]\n",
    ")\n",
    "plotme(results, \"\", )"
   ]
  },
  {
   "cell_type": "code",
   "execution_count": null,
   "id": "bf259349-0085-4f5b-9e8d-2d1631748159",
   "metadata": {},
   "outputs": [],
   "source": [
    "results = do_calc2(tenv, [[\n",
    "        [tenv.user_lp, \"min_tick\", \"max_tick\"]\n",
    "    ]] +  [[\n",
    "        [tenv.user_lp, \"min_tick\", \"max_tick\"],\n",
    "        [x, 0.95, 0.98]] for x in [100, 300, 1000, 3000, 10000, 30000, 100000, 300000]\n",
    "    ], ['baseline'] + [x for x in [100, 300, 1000, 3000, 10000, 30000, 100000, 300000]]\n",
    ")\n",
    "plotme(results, \"\", )"
   ]
  },
  {
   "cell_type": "code",
   "execution_count": null,
   "id": "676a6a63-5d7f-4e39-b6ea-523d20f32e7a",
   "metadata": {},
   "outputs": [],
   "source": [
    "(lp, tkn0, tkn1) = setup_lp(tenv, [\n",
    "        [tenv.user_lp, \"min_tick\", \"max_tick\"]\n",
    "    ])\n",
    "dump_liquidity(lp, tkn0, tkn1)"
   ]
  },
  {
   "cell_type": "code",
   "execution_count": null,
   "id": "91b05ef1-c42f-476b-b9ca-edb19495c154",
   "metadata": {},
   "outputs": [],
   "source": [
    "from uniswappy import *\n",
    "import pandas as pd\n",
    "import numpy as np\n",
    "from icecream import ic\n",
    "import traceback\n",
    "from axc_lp import *\n",
    "from tqdm.autonotebook import tqdm\n",
    "\n",
    "\n",
    "import numpy as np\n",
    "import random\n",
    "from axc_algobot import * \n",
    "\n"
   ]
  },
  {
   "cell_type": "code",
   "execution_count": null,
   "id": "bc0d64f7-4aeb-465e-ba2d-ecfe583d5d6e",
   "metadata": {},
   "outputs": [],
   "source": []
  },
  {
   "cell_type": "code",
   "execution_count": null,
   "id": "1938c48c-e619-4db4-a829-93b87c2479d8",
   "metadata": {},
   "outputs": [],
   "source": [
    "plot_distribution(lp_price_samples[0], \"Scenario 1\")"
   ]
  },
  {
   "cell_type": "code",
   "execution_count": null,
   "id": "6b38f980-b985-4eb8-836c-ce82cb95b641",
   "metadata": {},
   "outputs": [],
   "source": []
  }
 ],
 "metadata": {
  "language_info": {
   "name": "python",
   "pygments_lexer": "ipython3"
  }
 },
 "nbformat": 4,
 "nbformat_minor": 5
}
