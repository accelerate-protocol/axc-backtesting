{
 "cells": [
  {
   "cell_type": "code",
   "execution_count": null,
   "id": "843e17a4-8b3f-46a6-b737-74c9ca4f6cd4",
   "metadata": {},
   "outputs": [],
   "source": [
    "# %matplotlib ipympl\n",
    "import ipywidgets as widgets\n",
    "from uniswappy import *\n",
    "from axc.lp import *\n",
    "from axc.algobot import *\n",
    "from axc.liquidity import *\n",
    "\n",
    "tenv = token_scenario_baseline"
   ]
  },
  {
   "cell_type": "code",
   "execution_count": null,
   "id": "c87df480-fde5-465e-90b9-ad18d2220a39",
   "metadata": {},
   "outputs": [],
   "source": [
    "tenv.swap_size = 10000\n",
    "tenv.redeem_amount0to1 = 20000\n",
    "samples = run_paths(\n",
    "    tenv,\n",
    "    [\n",
    "        [\n",
    "            LiquidityBot(\n",
    "                LiquidityBotParams(\n",
    "                    pool_params=[\n",
    "                        [tenv.user_lp, \"min_tick\", \"max_tick\"],\n",
    "                        [tenv.reserve, tenv.reserve_lower, tenv.nav],\n",
    "                    ]\n",
    "                )\n",
    "            ),\n",
    "            AlgoBot(),\n",
    "        ]\n",
    "    ],\n",
    ")\n",
    "\n",
    "plot_samples([samples[0].price])\n",
    "plot_samples([samples[0].reserve0])\n",
    "plot_samples([samples[0].reserve1])\n",
    "plot_samples([samples[0].pending_redemption0])\n",
    "plot_samples([samples[0].nav_net])"
   ]
  },
  {
   "cell_type": "code",
   "execution_count": null,
   "id": "d287cf8a-c820-4b81-977a-26022c4a6f80",
   "metadata": {},
   "outputs": [],
   "source": [
    "w = {\n",
    "    \"tkn_prob\": widgets.FloatSlider(\n",
    "        value=0.5,\n",
    "        min=0,\n",
    "        max=1.0,\n",
    "        step=0.05,\n",
    "        description=\"Probability up:\",\n",
    "        disabled=False,\n",
    "        continuous_update=False,\n",
    "        orientation=\"horizontal\",\n",
    "        readout=True,\n",
    "        readout_format=\".1f\",\n",
    "    ),\n",
    "    \"swap_size\": widgets.FloatLogSlider(\n",
    "        value=1000,\n",
    "        base=10,\n",
    "        min=2,\n",
    "        max=5,\n",
    "        description=\"Swap size:\",\n",
    "        disabled=False,\n",
    "        continuous_update=False,\n",
    "        orientation=\"horizontal\",\n",
    "        readout=True,\n",
    "        readout_format=\".1f\",\n",
    "    ),\n",
    "    \"button\": widgets.Button(\n",
    "        description=\"Run Simulation\",\n",
    "        disabled=False,\n",
    "        button_style=\"\",  # 'success', 'info', 'warning', 'danger' or ''\n",
    "        tooltip=\"Click me\",\n",
    "        icon=\"check\",  # (FontAwesome names without the `fa-` prefix)\n",
    "    ),\n",
    "    \"output\": widgets.Output(),\n",
    "}\n",
    "\n",
    "for k, v in w.items():\n",
    "    display(v)\n",
    "\n",
    "w[\"button\"].on_click(lambda x: runme(w))"
   ]
  },
  {
   "cell_type": "code",
   "execution_count": null,
   "id": "1e6f0808-52c2-46b9-a78d-1404d6a35034",
   "metadata": {},
   "outputs": [],
   "source": [
    "from axc.lp import run_paths\n",
    "\n",
    "samples = run_paths(tenv)"
   ]
  },
  {
   "cell_type": "code",
   "execution_count": null,
   "id": "3b9809ea-3e2e-4c91-bc8b-7ea0f5dccd9c",
   "metadata": {},
   "outputs": [],
   "source": [
    "%matplotlib ipympl\n",
    "\n",
    "results = do_calc2(\n",
    "    tenv,\n",
    "    [[[tenv.user_lp, \"min_tick\", \"max_tick\"]]]\n",
    "    + [\n",
    "        [[tenv.user_lp, \"min_tick\", \"max_tick\"], [10000, reserve, tenv.nav]]\n",
    "        for reserve in [0.1, 0.2, 0.3, 0.5, 0.8, 0.9, 0.995]\n",
    "    ],\n",
    "    [\"baseline\"] + [x for x in [0.1, 0.2, 0.3, 0.5, 0.8, 0.9, 0.995]],\n",
    ")\n",
    "plotme(\n",
    "    results,\n",
    "    \"\",\n",
    ")"
   ]
  },
  {
   "cell_type": "code",
   "execution_count": null,
   "id": "bf259349-0085-4f5b-9e8d-2d1631748159",
   "metadata": {},
   "outputs": [],
   "source": [
    "results = do_calc2(\n",
    "    tenv,\n",
    "    [[[tenv.user_lp, \"min_tick\", \"max_tick\"]]]\n",
    "    + [\n",
    "        [[tenv.user_lp, \"min_tick\", \"max_tick\"], [x, 0.95, 0.98]]\n",
    "        for x in [100, 300, 1000, 3000, 10000, 30000, 100000, 300000]\n",
    "    ],\n",
    "    [\"baseline\"] + [x for x in [100, 300, 1000, 3000, 10000, 30000, 100000, 300000]],\n",
    ")\n",
    "plotme(\n",
    "    results,\n",
    "    \"\",\n",
    ")"
   ]
  },
  {
   "cell_type": "code",
   "execution_count": null,
   "id": "676a6a63-5d7f-4e39-b6ea-523d20f32e7a",
   "metadata": {},
   "outputs": [],
   "source": [
    "(lp, tkn0, tkn1) = setup_lp(tenv)\n",
    "lp_params = [[tenv.user_lp, \"min_tick\", \"max_tick\"]]\n",
    "adapter = BotSimulator(\n",
    "    lp, tenv.user, tkn0, tkn1, [LiquidityBot(LiquidityBotParams(pool_params=lp_params))]\n",
    ")\n",
    "adapter.init_step()\n",
    "dump_liquidity(lp, tkn0, tkn1)"
   ]
  }
 ],
 "metadata": {
  "language_info": {
   "name": "python",
   "pygments_lexer": "ipython3"
  }
 },
 "nbformat": 4,
 "nbformat_minor": 5
}
