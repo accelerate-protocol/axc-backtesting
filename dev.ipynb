{
 "cells": [
  {
   "cell_type": "code",
   "execution_count": null,
   "id": "d287cf8a-c820-4b81-977a-26022c4a6f80",
   "metadata": {},
   "outputs": [],
   "source": [
    "from uniswappy import *\n",
    "from axc_lp import *\n",
    "tenv = token_scenario_baseline\n",
    "tenv.tkn_prob = 0.3\n",
    "tenv.swap_size = 10000\n"
   ]
  },
  {
   "cell_type": "code",
   "execution_count": null,
   "id": "3b9809ea-3e2e-4c91-bc8b-7ea0f5dccd9c",
   "metadata": {},
   "outputs": [],
   "source": [
    "results = do_calc2(tenv, [[\n",
    "        [tenv.user_lp, \"min_tick\", \"max_tick\"]\n",
    "    ]] +  [[\n",
    "        [tenv.user_lp, \"min_tick\", \"max_tick\"],\n",
    "        [10000, reserve, tenv.nav]] for reserve in [0.1, 0.2, 0.3, 0.5, 0.8, 0.9, 0.995]\n",
    "    ], ['baseline'] + [ x for x in [0.1, 0.2, 0.3, 0.5, 0.8, 0.9, 0.995]]\n",
    ")\n",
    "plotme(results, \"\", )"
   ]
  },
  {
   "cell_type": "code",
   "execution_count": null,
   "id": "bf259349-0085-4f5b-9e8d-2d1631748159",
   "metadata": {},
   "outputs": [],
   "source": [
    "results = do_calc2(tenv, [[\n",
    "        [tenv.user_lp, \"min_tick\", \"max_tick\"]\n",
    "    ]] +  [[\n",
    "        [tenv.user_lp, \"min_tick\", \"max_tick\"],\n",
    "        [x, 0.95, 0.98]] for x in [100, 300, 1000, 3000, 10000, 30000, 100000, 300000]\n",
    "    ], ['baseline'] + [x for x in [100, 300, 1000, 3000, 10000, 30000, 100000, 300000]]\n",
    ")\n",
    "plotme(results, \"\", )"
   ]
  },
  {
   "cell_type": "code",
   "execution_count": null,
   "id": "676a6a63-5d7f-4e39-b6ea-523d20f32e7a",
   "metadata": {},
   "outputs": [],
   "source": [
    "(lp, tkn0, tkn1) = setup_lp(tenv, [\n",
    "        [tenv.user_lp, \"min_tick\", \"max_tick\"]\n",
    "    ])\n",
    "dump_liquidity(lp, tkn0, tkn1)"
   ]
  },
  {
   "cell_type": "code",
   "execution_count": null,
   "id": "91b05ef1-c42f-476b-b9ca-edb19495c154",
   "metadata": {},
   "outputs": [],
   "source": [
    "from uniswappy import *\n",
    "import pandas as pd\n",
    "import numpy as np\n",
    "from icecream import ic\n",
    "import traceback\n",
    "from axc_lp import *\n",
    "from tqdm.autonotebook import tqdm\n",
    "\n",
    "\n",
    "import numpy as np\n",
    "import random\n",
    "from axc_algobot import * \n",
    "\n",
    "params = [\n",
    "    [\n",
    "            [tenv.user_lp, \"min_tick\", \"max_tick\"]\n",
    "    ], [\n",
    "            [tenv.user_lp, \"min_tick\", \"max_tick\"],\n",
    "        [tenv.reserve, tenv.reserve_lower, tenv.nav]\n",
    "    ], [\n",
    "            [tenv.user_lp, \"min_tick\", \"max_tick\"]\n",
    "    ], [\n",
    "        [tenv.user_lp, \"min_tick\", \"max_tick\"],\n",
    "        [tenv.reserve, tenv.reserve_lower, tenv.nav] \n",
    "    ]\n",
    "]\n",
    "\n",
    "bots = [\n",
    "    NullAlgoBot,\n",
    "    NullAlgoBot,\n",
    "    AlgoBot,\n",
    "    AlgoBot\n",
    "]\n",
    "\n",
    "random.seed(42)\n",
    "lp_price_samples = []\n",
    "lp_liquidity_samples = []\n",
    "adapter_log = []\n",
    "for (param, bot) in tqdm(zip(params, bots), total=len(params)):\n",
    "    (lp_price_sample, lp_liquidity_sample, adapter_logs) = do_paths(\n",
    "        tenv, 50, 500, param, bot\n",
    "    )\n",
    "    lp_price_samples.append(lp_price_sample)\n",
    "    lp_liquidity_samples.append(lp_liquidity_sample)\n",
    "    adapter_logs.append(adapter_log)"
   ]
  },
  {
   "cell_type": "code",
   "execution_count": null,
   "id": "bc0d64f7-4aeb-465e-ba2d-ecfe583d5d6e",
   "metadata": {},
   "outputs": [],
   "source": [
    "for (i, sample) in enumerate(lp_price_samples):\n",
    "    plot_distribution(sample, f\"Scenario {i+1}\", 0.1, 3.0)"
   ]
  },
  {
   "cell_type": "code",
   "execution_count": null,
   "id": "1938c48c-e619-4db4-a829-93b87c2479d8",
   "metadata": {},
   "outputs": [],
   "source": [
    "plot_distribution(lp_price_samples[0], \"Scenario 1\")"
   ]
  },
  {
   "cell_type": "code",
   "execution_count": null,
   "id": "6b38f980-b985-4eb8-836c-ce82cb95b641",
   "metadata": {},
   "outputs": [],
   "source": []
  }
 ],
 "metadata": {
  "language_info": {
   "name": "python",
   "pygments_lexer": "ipython3"
  }
 },
 "nbformat": 4,
 "nbformat_minor": 5
}
