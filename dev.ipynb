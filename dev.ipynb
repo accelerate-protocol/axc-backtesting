{
 "cells": [
  {
   "cell_type": "markdown",
   "id": "379c4bf1-3913-4785-a8db-dc3cb0ef48fd",
   "metadata": {},
   "source": []
  },
  {
   "cell_type": "code",
   "execution_count": null,
   "id": "d287cf8a-c820-4b81-977a-26022c4a6f80",
   "metadata": {},
   "outputs": [],
   "source": [
    "from uniswappy import *\n",
    "from axc_lp import *\n",
    "\n",
    "fee = UniV3Utils.FeeAmount.MEDIUM\n",
    "tick_spacing = UniV3Utils.TICK_SPACINGS[fee]\n",
    "init_price = UniV3Utils.encodePriceSqrt(1000,1000)\n",
    "\n",
    "usdt_in = 10**6\n",
    "tenv = TokenScenario(\n",
    "    user = 'user',\n",
    "    user_lp = 10000,\n",
    "    reserve = 50000,\n",
    "    name0 = \"TKN\",\n",
    "    name1 = \"USDT\",\n",
    "    address0 = \"0x111\",\n",
    "    address1 = \"0x09\",   \n",
    "    usdt_in = usdt_in,\n",
    "    tick_spacing = tick_spacing,\n",
    "    fee = fee,\n",
    "    init_price = init_price,\n",
    "    nav=1.0,\n",
    "    reserve_lower = 0.9,\n",
    "    seed  = 42\n",
    ")\n"
   ]
  },
  {
   "cell_type": "code",
   "execution_count": null,
   "id": "3b9809ea-3e2e-4c91-bc8b-7ea0f5dccd9c",
   "metadata": {
    "editable": true,
    "slideshow": {
     "slide_type": ""
    },
    "tags": []
   },
   "outputs": [],
   "source": [
    "results = do_calc2(tenv, [[\n",
    "        [tenv.user_lp, \"min_tick\", \"max_tick\"]\n",
    "    ]] +  [[\n",
    "        [tenv.user_lp, \"min_tick\", \"max_tick\"],\n",
    "        [10000, reserve, tenv.nav]] for reserve in [0.1, 0.2, 0.3, 0.5, 0.8, 0.9, 0.995]\n",
    "    ], ['baseline'] + [ x for x in [0.1, 0.2, 0.3, 0.5, 0.8, 0.9, 0.995]]\n",
    ")\n",
    "plotme(results, \"\", )"
   ]
  },
  {
   "cell_type": "code",
   "execution_count": null,
   "id": "bf259349-0085-4f5b-9e8d-2d1631748159",
   "metadata": {},
   "outputs": [],
   "source": [
    "results = do_calc2(tenv, [[\n",
    "        [tenv.user_lp, \"min_tick\", \"max_tick\"]\n",
    "    ]] +  [[\n",
    "        [tenv.user_lp, \"min_tick\", \"max_tick\"],\n",
    "        [x, 0.95, 0.98]] for x in [100, 300, 1000, 3000, 10000, 30000, 100000, 300000]\n",
    "    ], ['baseline'] + [x for x in [100, 300, 1000, 3000, 10000, 30000, 100000, 300000]]\n",
    ")\n",
    "plotme(results, \"\", )"
   ]
  },
  {
   "cell_type": "code",
   "execution_count": null,
   "id": "91b05ef1-c42f-476b-b9ca-edb19495c154",
   "metadata": {},
   "outputs": [],
   "source": []
  }
 ],
 "metadata": {
  "kernelspec": {
   "display_name": "Python 3 (ipykernel)",
   "language": "python",
   "name": "python3"
  },
  "language_info": {
   "codemirror_mode": {
    "name": "ipython",
    "version": 3
   },
   "file_extension": ".py",
   "mimetype": "text/x-python",
   "name": "python",
   "nbconvert_exporter": "python",
   "pygments_lexer": "ipython3",
   "version": "3.12.6"
  }
 },
 "nbformat": 4,
 "nbformat_minor": 5
}
