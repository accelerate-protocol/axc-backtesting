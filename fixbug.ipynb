{
 "cells": [
  {
   "cell_type": "code",
   "execution_count": null,
   "id": "a732df15-5f96-47af-a4bc-a2187b214bc1",
   "metadata": {},
   "outputs": [],
   "source": [
    "from uniswappy import *\n",
    "import pandas as pd\n",
    "import numpy as np\n",
    "from icecream import ic\n",
    "import traceback\n",
    "from axc_lp import *\n",
    "\n",
    "fee = UniV3Utils.FeeAmount.MEDIUM\n",
    "tick_spacing = UniV3Utils.TICK_SPACINGS[fee]\n",
    "init_price = UniV3Utils.encodePriceSqrt(1000,1000)\n",
    "\n",
    "usdt_in = 10**6\n",
    "tenv = TokenScenario(\n",
    "    user = 'user',\n",
    "    reserve = usdt_in * 0.2,\n",
    "    name0 = \"TKN\",\n",
    "    name1 = \"USDT\",\n",
    "    address0 = \"0x111\",\n",
    "    address1 = \"0x09\",   \n",
    "    usdt_in = usdt_in,\n",
    "    tick_spacing = tick_spacing,\n",
    "    fee = fee,\n",
    "    init_price = init_price\n",
    ")"
   ]
  },
  {
   "cell_type": "code",
   "execution_count": null,
   "id": "247196b1-976c-4634-9956-dd125f6f1774",
   "metadata": {},
   "outputs": [],
   "source": [
    "(lp, tkn0, tkn1) = setup_lp(\n",
    "        tenv, [\n",
    "            [tenv.reserve, 0.95, 1.0]\n",
    "        ]\n",
    ")"
   ]
  },
  {
   "cell_type": "code",
   "execution_count": null,
   "id": "3158214a-554c-48b0-a2f1-81fa374fb857",
   "metadata": {},
   "outputs": [],
   "source": [
    "from uniswappy import *\n",
    "from axc_lp import *\n",
    "\n",
    "fee = UniV3Utils.FeeAmount.MEDIUM\n",
    "tick_spacing = UniV3Utils.TICK_SPACINGS[fee]\n",
    "init_price = UniV3Utils.encodePriceSqrt(1000,1000)\n",
    "\n",
    "usdt_in = 10**6\n",
    "tenv = TokenScenario(\n",
    "    user = 'user',\n",
    "    user_lp = 10000,\n",
    "    reserve = usdt_in * 0.2,\n",
    "    name0 = \"TKN\",\n",
    "    name1 = \"USDT\",\n",
    "    address0 = \"0x111\",\n",
    "    address1 = \"0x09\",   \n",
    "    usdt_in = usdt_in,\n",
    "    tick_spacing = tick_spacing,\n",
    "    fee = fee,\n",
    "    init_price = init_price,\n",
    "    nav=1.0,\n",
    "    reserve_lower = 0.9,\n",
    "    seed  = 42\n",
    ")\n"
   ]
  },
  {
   "cell_type": "code",
   "execution_count": null,
   "id": "87717e1e-24cb-47d8-8520-2177cc550435",
   "metadata": {},
   "outputs": [],
   "source": [
    "results = do_calc2(tenv, [[\n",
    "        [tenv.user_lp, \"min_tick\", \"max_tick\"]\n",
    "    ], [\n",
    "        [tenv.user_lp, \"min_tick\", \"max_tick\"],\n",
    "        [10, tenv.reserve_lower, tenv.nav]\n",
    "    ]], ['baseline', 'baseline with reserve']\n",
    ")\n",
    "plotme(results, \"\", )"
   ]
  },
  {
   "cell_type": "code",
   "execution_count": null,
   "id": "375780ba-4e7c-435b-af39-1a23a74b88a0",
   "metadata": {},
   "outputs": [],
   "source": [
    "(lp, tkn0, tkn1) = setup_lp(tenv, [\n",
    "    [tenv.user_lp, \"min_tick\", \"max_tick\"],\n",
    "    [10, tenv.reserve_lower, tenv.nav]\n",
    "])\n",
    "dump_liquidity(lp, tkn0, tkn1)"
   ]
  },
  {
   "cell_type": "code",
   "execution_count": null,
   "id": "7d8ada3f-4264-4e73-bbc0-ea71fb31fa59",
   "metadata": {},
   "outputs": [],
   "source": []
  }
 ],
 "metadata": {
  "kernelspec": {
   "display_name": "Python 3 (ipykernel)",
   "language": "python",
   "name": "python3"
  },
  "language_info": {
   "codemirror_mode": {
    "name": "ipython",
    "version": 3
   },
   "file_extension": ".py",
   "mimetype": "text/x-python",
   "name": "python",
   "nbconvert_exporter": "python",
   "pygments_lexer": "ipython3",
   "version": "3.12.6"
  }
 },
 "nbformat": 4,
 "nbformat_minor": 5
}
