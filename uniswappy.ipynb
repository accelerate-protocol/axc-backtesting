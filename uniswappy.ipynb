{
 "cells": [
  {
   "cell_type": "markdown",
   "id": "e1c323a9-0a08-4d4f-a097-cad7138adf53",
   "metadata": {},
   "source": [
    "# Uniswap calculation\n",
    "\n",
    "This notebook is available at http://ai.hkphysics.hk/ username: user\n",
    "\n",
    "This uses a modified uniswappy which is available on branch main at https://github.com/hkphysics/uniswappy\n",
    "\n",
    "See\n",
    "\n",
    "https://blog.uniswap.org/uniswap-v3-math-primer\n",
    "\n",
    "https://atiselsts.github.io/pdfs/uniswap-v3-liquidity-math.pdf\n",
    "\n",
    "https://medium.com/@icmoore/simulating-a-liquidity-pool-for-decentralized-finance-6f357ec8564b"
   ]
  },
  {
   "cell_type": "code",
   "execution_count": null,
   "id": "4aee3a56-a5b8-4497-b466-ddc2023a09bf",
   "metadata": {},
   "outputs": [],
   "source": [
    "# set up calculations\n",
    "\n",
    "from uniswappy import *\n",
    "import pandas as pd\n",
    "import numpy as np\n",
    "from icecream import ic\n",
    "from dataclasses import dataclass\n",
    "import traceback\n",
    "from axc_lp import *\n",
    "\n",
    "\n",
    "tenv = token_scenario_baseline\n"
   ]
  },
  {
   "cell_type": "markdown",
   "id": "ddb6097c-c7f5-4715-abe3-2f34606c4775",
   "metadata": {},
   "source": [
    "This calculation puts all of the reserve into a liquidity pool between 1.0 and lower bound"
   ]
  },
  {
   "cell_type": "code",
   "execution_count": null,
   "id": "21d966ed-abe9-47d8-8a44-510643ffac87",
   "metadata": {},
   "outputs": [],
   "source": [
    "results = do_calc(tenv)\n",
    "results\n",
    "plotme(results,'pool lower bound', \"\"\"Scenario\n",
    "\n",
    "Price %f\n",
    "reserve %d TKN\n",
    "one side pool from lower to 1.0\n",
    "\"\"\" % (1.0, tenv.reserve))"
   ]
  },
  {
   "cell_type": "markdown",
   "id": "7847bfb9-85e3-4c06-acda-235abbe4606b",
   "metadata": {},
   "source": [
    "This compute takes the reserve and puts most of it into a v2 style LP but reserves a fraction into an insurance pool"
   ]
  },
  {
   "cell_type": "code",
   "execution_count": null,
   "id": "bc61ebd2-01dc-40df-90d4-ffd291183fb6",
   "metadata": {},
   "outputs": [],
   "source": [
    "results = do_calc1(tenv)\n",
    "plotme(results, 'percent in insurance pool', \"\"\"Scenario\n",
    "\n",
    "Price %f\n",
    "reserve %d TKN\n",
    "assume percent in insurance and rest in v2 style pool\n",
    "\"\"\" % (1.0, tenv.reserve))"
   ]
  },
  {
   "cell_type": "code",
   "execution_count": null,
   "id": "a5e54f83-7144-4d3e-b742-294b4498bbb7",
   "metadata": {},
   "outputs": [],
   "source": [
    "import matplotlib.pyplot as plt\n",
    "\n",
    "def do_calc2(tenv):\n",
    "    results = []\n",
    "    for lower in [0.95, 0.9, 0.8, 0.7, 0.5, 0.1, 0.000001]:\n",
    "        for swap in np.geomspace(100, tenv.usdt_in, num=100):\n",
    "            (lp, tkn0, tkn1) = setup_lp(tenv, [\n",
    "                [\n",
    "                    tenv.user_lp, \"min_tick\", \"max_tick\"\n",
    "                ],\n",
    "                [\n",
    "                tenv.reserve, lower, 1.0\n",
    "            ]])\n",
    "            solver = SolveDeltas(lp)\n",
    "            try:\n",
    "                out = Swap().apply(lp, tkn0, tenv.user, swap)\n",
    "                (x, y) = solver.calc(0.9998)\n",
    "                results.append({\n",
    "                    \"lower\": lower,\n",
    "                    \"swap\": swap,\n",
    "                    \"out\": out,\n",
    "                    \"price\": float(out) / float(swap),\n",
    "                    \"x\": x,\n",
    "                    \"y\": y\n",
    "                })\n",
    "            except AssertionError:\n",
    "                pass\n",
    "    return pd.DataFrame(results)\n",
    "\n",
    "def plotme2(df, title, annotation):\n",
    "    plt.figure(figsize=(10,6))\n",
    "    for key, grp in df.groupby('lower'):\n",
    "        plt.plot(grp['swap'], grp['y'], label=key)\n",
    "\n",
    "    plt.text(25000, 0.6, annotation )\n",
    "    plt.legend(title=title)\n",
    "    plt.xlabel('Tokens sold (TKN)')\n",
    "    plt.ylabel('Swap price (USDT/TKN)')\n",
    "    plt.show()\n",
    "\n",
    "results = do_calc2(tenv)\n",
    "plotme2(results, \"\", \"\")"
   ]
  },
  {
   "cell_type": "code",
   "execution_count": null,
   "id": "ddfaf747-75a0-467c-aa07-fb69cb036f8d",
   "metadata": {},
   "outputs": [],
   "source": []
  },
  {
   "cell_type": "code",
   "execution_count": null,
   "id": "b322373d-de81-44fd-9242-c6c8879c55a3",
   "metadata": {},
   "outputs": [],
   "source": []
  }
 ],
 "metadata": {
  "language_info": {
   "name": "python",
   "pygments_lexer": "ipython3"
  }
 },
 "nbformat": 4,
 "nbformat_minor": 5
}
