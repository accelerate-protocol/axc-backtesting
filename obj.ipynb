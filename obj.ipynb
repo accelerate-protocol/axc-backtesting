{
 "cells": [
  {
   "cell_type": "code",
   "execution_count": null,
   "id": "82237e12-e3ca-49ef-ad4c-65c9428e104a",
   "metadata": {},
   "outputs": [],
   "source": [
    "import ipywidgets as widgets\n",
    "from uniswappy import *\n",
    "from axc_lp import *\n",
    "from axc_algobot import *\n",
    "from axc_liquidity import *\n",
    "\n",
    "tenv = token_scenario_baseline"
   ]
  },
  {
   "cell_type": "code",
   "execution_count": null,
   "id": "93ef7c7b-5f1d-4a51-81f2-67a089bfb9d2",
   "metadata": {},
   "outputs": [],
   "source": [
    "import math\n",
    "\n",
    "nround = 0\n",
    "\n",
    "\n",
    "def objfunc(x):\n",
    "    global nround\n",
    "    print(x)\n",
    "    #    if (x[0], x[1], x[2], x[3]) in memo:\n",
    "    #        return memo[(x[0], x[1], x[2], x[3])]\n",
    "    tenv = token_scenario_baseline\n",
    "    tenv.samples = 50\n",
    "    tenv.steps = 500\n",
    "    tenv.swap_size = 10000\n",
    "    samples = run_paths(\n",
    "        tenv,\n",
    "        [\n",
    "            [\n",
    "                [tenv.user_lp, \"min_tick\", \"max_tick\"],\n",
    "                [10.0 ** x[0], 0.98 - x[1], 0.98],\n",
    "            ]\n",
    "        ],\n",
    "        [\n",
    "            [\n",
    "                [\n",
    "                    AlgoBot,\n",
    "                    AlgoBotParams(\n",
    "                        price_down=x[2] - x[3],\n",
    "                        price_down_reset=x[2],\n",
    "                        price_up=x[4] + x[5],\n",
    "                        price_up_reset=x[4],\n",
    "                    ),\n",
    "                ]\n",
    "            ]\n",
    "        ],\n",
    "    )\n",
    "    print(np.quantile(samples[0].price, 0.1, axis=0)[-10:-1].mean())\n",
    "    meandiff = tenv.nav - \\\n",
    "        np.quantile(samples[0].price, 0.10, axis=0)[-50:-1].mean()\n",
    "    meanhigh = np.quantile(\n",
    "        samples[0].price, 0.90, axis=0)[-50:-1].mean() - tenv.nav\n",
    "    #  print(np.quantile(samples[0].price, 0.90, axis=0))\n",
    "    reserve0low = np.quantile(samples[0].reserve0, 0.1, axis=0)\n",
    "    reserve0low[reserve0low > 0.0] = 0.0\n",
    "    reserve0 = reserve0low[-50:-1].mean()\n",
    "    print(meandiff, meanhigh, reserve0)\n",
    "    out = (\n",
    "        (10.0 ** x[0] / 10**4) ** 2.0\n",
    "        + (meandiff / 0.01) ** 2.0\n",
    "        + (meanhigh / 0.01) ** 2.0\n",
    "        + (reserve0 / 10**5) ** 2.0\n",
    "    )\n",
    "    print(\n",
    "        (10.0 ** x[0] / 10**5) ** 2.0,\n",
    "        (meandiff / 0.01) ** 2.0,\n",
    "        (meanhigh / 0.01) ** 2.0,\n",
    "        (reserve0 / 10**5) ** 2.0,\n",
    "    )\n",
    "    if nround % 20 == 0:\n",
    "        plot_samples([samples[0].price])\n",
    "        plot_samples([samples[0].reserve0])\n",
    "    print(out)\n",
    "    #    memo[(x[0], x[1], x[2], x[3])] = out\n",
    "    nround = nround + 1\n",
    "    return out\n",
    "\n",
    "\n",
    "nround = 0"
   ]
  },
  {
   "cell_type": "code",
   "execution_count": null,
   "id": "7e7ed676-5bc5-49ab-b362-6b3de1fc22ff",
   "metadata": {},
   "outputs": [],
   "source": [
    "objfunc([3, 0.48, 0.98, 0.05, 1.02, 0.05])"
   ]
  },
  {
   "cell_type": "code",
   "execution_count": null,
   "id": "65e01e3a-3b05-4223-9b59-147caa440aca",
   "metadata": {},
   "outputs": [],
   "source": [
    "#objfunc([5, 0.9])\n",
    "#[objfunc([x, 0.95]) for x in [3, 4, 5, 5.5]]\n",
    "nround = 0\n",
    "[objfunc([3, x, 0.98, 0.05, 1.02, 0.05]) for x in [0.5, 0.7, 0.8, 0.9]]"
   ]
  },
  {
   "cell_type": "code",
   "execution_count": null,
   "id": "ce80481e-516a-4d7b-8731-25fd042ad24d",
   "metadata": {},
   "outputs": [],
   "source": [
    "from noisyopt import minimizeSPSA\n",
    "res = minimizeSPSA(objfunc, x0=np.array([5, 0.05, 0.98, 0.05, 1.02, 0.05]), bounds = [[3, 6], [0.01, 0.5], [0.8, 0.99], [0.01, 0.1], [1.01, 1.3], [0.01, 0.1]], niter=5000, paired=False)\n",
    "res"
   ]
  },
  {
   "cell_type": "code",
   "execution_count": null,
   "id": "46af475c-0990-4584-9cb2-6457abe8f793",
   "metadata": {},
   "outputs": [],
   "source": []
  }
 ],
 "metadata": {
  "language_info": {
   "name": "python",
   "pygments_lexer": "ipython3"
  }
 },
 "nbformat": 4,
 "nbformat_minor": 5
}
