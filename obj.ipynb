{
 "cells": [
  {
   "cell_type": "code",
   "execution_count": null,
   "id": "82237e12-e3ca-49ef-ad4c-65c9428e104a",
   "metadata": {},
   "outputs": [],
   "source": [
    "import numpy as np\n",
    "import axc_opt\n",
    "obj = axc_opt.ObjectiveFunction()\n",
    "objfunc = obj.get_function()\n"
   ]
  },
  {
   "cell_type": "code",
   "execution_count": null,
   "id": "7e7ed676-5bc5-49ab-b362-6b3de1fc22ff",
   "metadata": {},
   "outputs": [],
   "source": [
    "objfunc([3, 0.05, 0.05])"
   ]
  },
  {
   "cell_type": "code",
   "execution_count": null,
   "id": "65e01e3a-3b05-4223-9b59-147caa440aca",
   "metadata": {},
   "outputs": [],
   "source": [
    "#objfunc([5, 0.9])\n",
    "#[objfunc([x, 0.95]) for x in [3, 4, 5, 5.5]]\n",
    "nround = 0\n",
    "[objfunc([x, 0.05, 0.05]) for x in [3, 4, 5, 6]]"
   ]
  },
  {
   "cell_type": "code",
   "execution_count": null,
   "id": "ce80481e-516a-4d7b-8731-25fd042ad24d",
   "metadata": {},
   "outputs": [],
   "source": [
    "from noisyopt import minimizeCompass\n",
    "res = minimizeCompass(objfunc, x0=np.array([5, 0.05, 0.05]), \n",
    "                      scaling=[1, 100, 100],\n",
    "                      bounds = [[3, 6], [0.01, 0.3], [0.01, 5.0]], errorcontrol=False)\n",
    "res"
   ]
  },
  {
   "cell_type": "code",
   "execution_count": null,
   "id": "29f67720-d0f4-439b-a134-c73dcccf9107",
   "metadata": {},
   "outputs": [],
   "source": [
    "from noisyopt import minimizeSPSA\n",
    "res = minimizeSPSA(objfunc, x0=np.array([5, 0.05, 0.05]), \n",
    "                      bounds = [[3, 6], [0.001, 0.3], [0.001, 5.0]], niter=5000)\n",
    "res"
   ]
  },
  {
   "cell_type": "code",
   "execution_count": null,
   "id": "dff33b7c-181b-4c38-96da-5b4d68b2545a",
   "metadata": {},
   "outputs": [],
   "source": []
  }
 ],
 "metadata": {
  "language_info": {
   "name": "python",
   "pygments_lexer": "ipython3"
  }
 },
 "nbformat": 4,
 "nbformat_minor": 5
}
